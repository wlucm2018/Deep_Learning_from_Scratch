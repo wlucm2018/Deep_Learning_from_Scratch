{
 "cells": [
  {
   "cell_type": "markdown",
   "metadata": {},
   "source": [
    "# Ch.2 Perceptron"
   ]
  },
  {
   "cell_type": "markdown",
   "metadata": {},
   "source": [
    "$$\n",
    "\\begin{align}\n",
    "\\mathsf{input\\quad}&=x_1, x_2 \\\\\n",
    "\\mathsf{output\\quad}&=y \\\\\n",
    "\\mathsf{weight\\quad}&=w_1, w_2 \n",
    "\\end{align}\n",
    "$$\n",
    "\n",
    "$$\n",
    "y=\\begin{cases}\n",
    "0,&(w_1x_1+w_2x_2\\leq\\theta) \\\\ \n",
    "1,&(w_1x_1+w_2x_2>\\theta)\n",
    "\\end{cases}\n",
    "$$"
   ]
  },
  {
   "cell_type": "markdown",
   "metadata": {},
   "source": [
    "#### AND gate"
   ]
  },
  {
   "cell_type": "code",
   "execution_count": 1,
   "metadata": {},
   "outputs": [],
   "source": [
    "def AND(x1, x2):\n",
    "    w1, w2, theta = 0.5, 0.5, 0.7\n",
    "    tmp = x1*w1 + x2*w2\n",
    "    if tmp <= theta:\n",
    "        return 0\n",
    "    elif tmp > theta:\n",
    "        return 1"
   ]
  },
  {
   "cell_type": "code",
   "execution_count": 2,
   "metadata": {},
   "outputs": [
    {
     "name": "stdout",
     "output_type": "stream",
     "text": [
      "AND(0,0):  0\n",
      "AND(1,0):  0\n",
      "AND(0,1):  0\n",
      "AND(1,1):  1\n"
     ]
    }
   ],
   "source": [
    "print('AND(0,0): ', AND(0,0))\n",
    "print('AND(1,0): ', AND(1,0))\n",
    "print('AND(0,1): ', AND(0,1))\n",
    "print('AND(1,1): ', AND(1,1))"
   ]
  },
  {
   "cell_type": "markdown",
   "metadata": {},
   "source": [
    "$$\n",
    "\\mathsf{chage}\\quad\\theta\\quad\\mathsf{to}\\quad\\mathit{b}\n",
    "$$\n",
    "\n",
    "$$\n",
    "y=\\begin{cases}\n",
    "0,&(b+w_1x_1+w_2x_2\\leq0) \\\\ \n",
    "1,&(b+w_1x_1+w_2x_2>0)\n",
    "\\end{cases}\n",
    "$$\n"
   ]
  },
  {
   "cell_type": "code",
   "execution_count": 3,
   "metadata": {},
   "outputs": [
    {
     "data": {
      "text/plain": [
       "array([0. , 0.5])"
      ]
     },
     "execution_count": 3,
     "metadata": {},
     "output_type": "execute_result"
    }
   ],
   "source": [
    "import numpy as np\n",
    "x = np.array([0,1]) #input\n",
    "w = np.array([0.5, 0.5]) #weight\n",
    "b = -0.7 #bias\n",
    "w*x"
   ]
  },
  {
   "cell_type": "code",
   "execution_count": 4,
   "metadata": {},
   "outputs": [
    {
     "data": {
      "text/plain": [
       "0.5"
      ]
     },
     "execution_count": 4,
     "metadata": {},
     "output_type": "execute_result"
    }
   ],
   "source": [
    "np.sum(w*x)"
   ]
  },
  {
   "cell_type": "code",
   "execution_count": 5,
   "metadata": {},
   "outputs": [
    {
     "data": {
      "text/plain": [
       "-0.19999999999999996"
      ]
     },
     "execution_count": 5,
     "metadata": {},
     "output_type": "execute_result"
    }
   ],
   "source": [
    "np.sum(w*x)+b"
   ]
  },
  {
   "cell_type": "code",
   "execution_count": 6,
   "metadata": {},
   "outputs": [],
   "source": [
    "def AND_2(x1, x2):\n",
    "    x = np.array([x1, x2])\n",
    "    w = np.array([0.5, 0.5])\n",
    "    b = -0.7\n",
    "    tmp = np.sum(w*x) + b\n",
    "    if tmp <= 0:\n",
    "        return 0\n",
    "    else:\n",
    "        return 1"
   ]
  },
  {
   "cell_type": "code",
   "execution_count": 7,
   "metadata": {},
   "outputs": [
    {
     "name": "stdout",
     "output_type": "stream",
     "text": [
      "AND(0,0):  0\n",
      "AND(1,0):  0\n",
      "AND(0,1):  0\n",
      "AND(1,1):  1\n"
     ]
    }
   ],
   "source": [
    "print('AND(0,0): ', AND_2(0,0))\n",
    "print('AND(1,0): ', AND_2(1,0))\n",
    "print('AND(0,1): ', AND_2(0,1))\n",
    "print('AND(1,1): ', AND_2(1,1))"
   ]
  },
  {
   "cell_type": "markdown",
   "metadata": {},
   "source": [
    "#### NAND gate and OR gate"
   ]
  },
  {
   "cell_type": "code",
   "execution_count": 8,
   "metadata": {},
   "outputs": [],
   "source": [
    "def NAND(x1, x2):\n",
    "    x = np.array([x1, x2])\n",
    "    w = np.array([-0.5, -0.5]) # weight and bias are different from AND gate\n",
    "    b = 0.7\n",
    "    tmp = np.sum(w*x) + b\n",
    "    if tmp <= 0:\n",
    "        return 0\n",
    "    \n",
    "    else:\n",
    "        return 1\n",
    "    \n",
    "def OR(x1, x2):\n",
    "    x = np.array([x1, x2])\n",
    "    w = np.array([0.5, 0.5])\n",
    "    b = -0.2\n",
    "    tmp = np.sum(w*x) + b\n",
    "    if tmp <= 0:\n",
    "        return 0\n",
    "    else:\n",
    "        return 1"
   ]
  },
  {
   "cell_type": "code",
   "execution_count": 9,
   "metadata": {},
   "outputs": [
    {
     "name": "stdout",
     "output_type": "stream",
     "text": [
      "AND(0,0): 0 , NAND(0,0): 1 , OR(0,0): 0\n",
      "AND(1,0): 0 , NAND(1,0): 1 , OR(1,0): 1\n",
      "AND(0,1): 0 , NAND(0,1): 1 , OR(0,1): 1\n",
      "AND(1,1): 1 , NAND(1,1): 0 , OR(1,1): 1\n"
     ]
    }
   ],
   "source": [
    "print('AND(0,0):', AND_2(0,0), ', NAND(0,0):', NAND(0,0), ', OR(0,0):', OR(0,0))\n",
    "print('AND(1,0):', AND_2(1,0), ', NAND(1,0):', NAND(1,0), ', OR(1,0):', OR(1,0))\n",
    "print('AND(0,1):', AND_2(0,1), ', NAND(0,1):', NAND(0,1), ', OR(0,1):', OR(0,1))\n",
    "print('AND(1,1):', AND_2(1,1), ', NAND(1,1):', NAND(1,1), ', OR(1,1):', OR(1,1))"
   ]
  },
  {
   "cell_type": "markdown",
   "metadata": {},
   "source": [
    "#### XOR gate\n",
    "multi-layered perceptron"
   ]
  },
  {
   "cell_type": "code",
   "execution_count": 10,
   "metadata": {},
   "outputs": [],
   "source": [
    "def XOR(x1, x2):\n",
    "    s1 = NAND(x1, x2)\n",
    "    s2 = OR(x1, x2)\n",
    "    y = AND_2(s1, s2)\n",
    "    return y"
   ]
  },
  {
   "cell_type": "code",
   "execution_count": 11,
   "metadata": {},
   "outputs": [
    {
     "name": "stdout",
     "output_type": "stream",
     "text": [
      "XOR(0,0):  0\n",
      "XOR(1,0):  1\n",
      "XOR(0,1):  1\n",
      "XOR(1,1):  0\n"
     ]
    }
   ],
   "source": [
    "print('XOR(0,0): ', XOR(0,0))\n",
    "print('XOR(1,0): ', XOR(1,0))\n",
    "print('XOR(0,1): ', XOR(0,1))\n",
    "print('XOR(1,1): ', XOR(1,1))"
   ]
  }
 ],
 "metadata": {
  "kernelspec": {
   "display_name": "Python 3",
   "language": "python",
   "name": "python3"
  },
  "language_info": {
   "codemirror_mode": {
    "name": "ipython",
    "version": 3
   },
   "file_extension": ".py",
   "mimetype": "text/x-python",
   "name": "python",
   "nbconvert_exporter": "python",
   "pygments_lexer": "ipython3",
   "version": "3.7.3"
  }
 },
 "nbformat": 4,
 "nbformat_minor": 2
}
